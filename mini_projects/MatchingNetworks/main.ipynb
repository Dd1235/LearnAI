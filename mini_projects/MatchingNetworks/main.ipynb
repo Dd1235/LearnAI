{
  "cells": [
    {
      "cell_type": "code",
      "execution_count": 1,
      "metadata": {
        "id": "IhBteHe-Hc4x"
      },
      "outputs": [],
      "source": [
        "import numpy as np\n",
        "import random\n",
        "import torch\n",
        "import torch.nn as nn\n",
        "import torch.nn.functional as F\n",
        "from torch.utils.data import Dataset, DataLoader\n",
        "import torchvision.transforms as transforms\n",
        "from torchvision.datasets import Omniglot\n",
        "from torch.utils.data import DataLoader\n",
        "import tempfile"
      ]
    },
    {
      "cell_type": "markdown",
      "metadata": {
        "id": "5MJLmx3rHc40"
      },
      "source": [
        "# Omniglot Dataset\n",
        "- Background: Training, Evaluation: Testing\n",
        "- There are 50 langauges\n",
        "- Each language has multiple characters\n",
        "- There are 964 characters in training set and 659 characters in testing set\n",
        "- Each character has 20 samples each written by a different person"
      ]
    },
    {
      "cell_type": "code",
      "execution_count": 2,
      "metadata": {
        "id": "UgVI8XRyHc42"
      },
      "outputs": [],
      "source": [
        "tmp_dir = tempfile.TemporaryDirectory() # make temp directory for omniglot dataset that can be later cleaned up easily"
      ]
    },
    {
      "cell_type": "code",
      "execution_count": 3,
      "metadata": {
        "id": "tL_x8Qn-Hc42"
      },
      "outputs": [],
      "source": [
        "transform = transforms.Compose([\n",
        "    transforms.Resize((28, 28)), # from 105 x 105, to reduce model size and computation\n",
        "    transforms.ToTensor(), # PIL image to tensor shape (1, 28, 28), and pixel values from 0-255 to 0-1\n",
        "    transforms.Lambda(lambda x: 1.0 - x),  # Invert the colors, white on black, emperically helps training\n",
        "])"
      ]
    },
    {
      "cell_type": "code",
      "execution_count": 4,
      "metadata": {
        "colab": {
          "base_uri": "https://localhost:8080/"
        },
        "id": "1oEGAg6ZHc43",
        "outputId": "5218a593-cd2b-4f76-cee5-d5cf3716fff1"
      },
      "outputs": [
        {
          "name": "stderr",
          "output_type": "stream",
          "text": [
            "100%|██████████| 9.46M/9.46M [00:00<00:00, 101MB/s]\n"
          ]
        }
      ],
      "source": [
        "train_dataset = Omniglot(\n",
        "    root=tmp_dir.name,\n",
        "    background=True, # background characters only, ie training set\n",
        "    transform=transform,\n",
        "    download=True\n",
        ")"
      ]
    },
    {
      "cell_type": "code",
      "execution_count": 5,
      "metadata": {
        "colab": {
          "base_uri": "https://localhost:8080/"
        },
        "id": "Dcs9uHC8Hc43",
        "outputId": "72b9970c-8241-4e91-ec10-46a16db78f3e"
      },
      "outputs": [
        {
          "name": "stdout",
          "output_type": "stream",
          "text": [
            "<class 'torchvision.datasets.omniglot.Omniglot'>\n",
            "Total number of images: 19280\n",
            "Sample item format: (tensor([[[0.0000, 0.0000, 0.0000, 0.0000, 0.0000, 0.0000, 0.0000, 0.0000,\n",
            "          0.0000, 0.0000, 0.0000, 0.0000, 0.0000, 0.0000, 0.0000, 0.0000,\n",
            "          0.0000, 0.0000, 0.0000, 0.0000, 0.0000, 0.0000, 0.0000, 0.0000,\n",
            "          0.0000, 0.0000, 0.0000, 0.0000],\n",
            "         [0.0000, 0.0000, 0.0000, 0.0000, 0.0000, 0.0000, 0.0000, 0.0000,\n",
            "          0.0000, 0.0000, 0.0000, 0.0000, 0.0000, 0.0000, 0.0000, 0.0000,\n",
            "          0.0000, 0.0000, 0.0000, 0.0000, 0.0000, 0.0000, 0.0000, 0.0000,\n",
            "          0.0000, 0.0000, 0.0000, 0.0000],\n",
            "         [0.0000, 0.0000, 0.0000, 0.0000, 0.0000, 0.0000, 0.0000, 0.0000,\n",
            "          0.0000, 0.0000, 0.0000, 0.0000, 0.0000, 0.0000, 0.0000, 0.0000,\n",
            "          0.0000, 0.0000, 0.0000, 0.0000, 0.0000, 0.0000, 0.0000, 0.0000,\n",
            "          0.0000, 0.0000, 0.0000, 0.0000],\n",
            "         [0.0000, 0.0000, 0.0000, 0.0000, 0.0000, 0.0000, 0.0000, 0.0000,\n",
            "          0.0000, 0.0000, 0.0000, 0.0000, 0.0000, 0.0000, 0.0000, 0.0000,\n",
            "          0.0000, 0.0000, 0.0000, 0.0000, 0.0000, 0.0000, 0.0000, 0.0000,\n",
            "          0.0000, 0.0000, 0.0000, 0.0000],\n",
            "         [0.0000, 0.0000, 0.0000, 0.0000, 0.0000, 0.0000, 0.0000, 0.0000,\n",
            "          0.0000, 0.0000, 0.0000, 0.0000, 0.0000, 0.0000, 0.0000, 0.0000,\n",
            "          0.0000, 0.0000, 0.0000, 0.0000, 0.0000, 0.0000, 0.0000, 0.0000,\n",
            "          0.0000, 0.0000, 0.0000, 0.0000],\n",
            "         [0.0000, 0.0000, 0.0000, 0.0000, 0.0000, 0.0000, 0.0000, 0.0000,\n",
            "          0.0000, 0.0000, 0.0000, 0.0000, 0.0000, 0.0000, 0.0000, 0.0000,\n",
            "          0.0000, 0.0000, 0.0000, 0.0000, 0.0000, 0.0000, 0.0000, 0.0000,\n",
            "          0.0000, 0.0000, 0.0000, 0.0000],\n",
            "         [0.0000, 0.0000, 0.0000, 0.0000, 0.0000, 0.0000, 0.0000, 0.0000,\n",
            "          0.0000, 0.0000, 0.0431, 0.1490, 0.1490, 0.0549, 0.0039, 0.0000,\n",
            "          0.0000, 0.0000, 0.0000, 0.0000, 0.0000, 0.0000, 0.0000, 0.0000,\n",
            "          0.0000, 0.0000, 0.0000, 0.0000],\n",
            "         [0.0000, 0.0000, 0.0000, 0.0000, 0.0000, 0.0000, 0.0000, 0.0000,\n",
            "          0.0000, 0.1059, 0.6353, 0.8824, 0.8784, 0.7373, 0.3765, 0.0784,\n",
            "          0.0000, 0.0000, 0.0000, 0.0000, 0.0000, 0.0000, 0.0000, 0.0000,\n",
            "          0.0000, 0.0000, 0.0000, 0.0000],\n",
            "         [0.0000, 0.0000, 0.0000, 0.0000, 0.0000, 0.0000, 0.0000, 0.0000,\n",
            "          0.0588, 0.6471, 0.9020, 0.4745, 0.3529, 0.6235, 0.9020, 0.6902,\n",
            "          0.1294, 0.0000, 0.0000, 0.0000, 0.0000, 0.0000, 0.0000, 0.0000,\n",
            "          0.0000, 0.0000, 0.0000, 0.0000],\n",
            "         [0.0000, 0.0000, 0.0000, 0.0000, 0.0000, 0.0000, 0.0000, 0.0039,\n",
            "          0.3529, 0.9059, 0.3686, 0.0196, 0.0000, 0.0235, 0.3686, 0.8667,\n",
            "          0.7020, 0.0863, 0.0000, 0.0000, 0.0000, 0.0000, 0.0000, 0.0000,\n",
            "          0.0000, 0.0000, 0.0000, 0.0000],\n",
            "         [0.0000, 0.0000, 0.0000, 0.0000, 0.0000, 0.0000, 0.0000, 0.1098,\n",
            "          0.8078, 0.7020, 0.0510, 0.0000, 0.0000, 0.0000, 0.0118, 0.3020,\n",
            "          0.9137, 0.3961, 0.0000, 0.0000, 0.0000, 0.0000, 0.0000, 0.0000,\n",
            "          0.0000, 0.0000, 0.0000, 0.0000],\n",
            "         [0.0000, 0.0000, 0.0000, 0.0000, 0.0000, 0.0000, 0.0000, 0.3098,\n",
            "          0.9176, 0.2706, 0.0000, 0.0000, 0.0000, 0.0000, 0.0000, 0.0510,\n",
            "          0.7490, 0.6039, 0.0000, 0.0000, 0.0000, 0.0000, 0.0000, 0.0000,\n",
            "          0.0000, 0.0000, 0.0000, 0.0000],\n",
            "         [0.0000, 0.0000, 0.0000, 0.0000, 0.0000, 0.0000, 0.0118, 0.5608,\n",
            "          0.8353, 0.1059, 0.0000, 0.0000, 0.0000, 0.0000, 0.0000, 0.0196,\n",
            "          0.6510, 0.7451, 0.0431, 0.0000, 0.0000, 0.0000, 0.0000, 0.0000,\n",
            "          0.0000, 0.0000, 0.0000, 0.0000],\n",
            "         [0.0000, 0.0000, 0.0000, 0.0000, 0.0000, 0.0000, 0.0431, 0.7490,\n",
            "          0.6157, 0.0157, 0.0000, 0.0000, 0.0000, 0.0000, 0.0000, 0.0902,\n",
            "          0.7176, 0.7490, 0.0510, 0.0000, 0.0000, 0.0000, 0.0000, 0.0000,\n",
            "          0.0000, 0.0000, 0.0000, 0.0000],\n",
            "         [0.0000, 0.0000, 0.0000, 0.0000, 0.0000, 0.0000, 0.0431, 0.7608,\n",
            "          0.5373, 0.0000, 0.0000, 0.0000, 0.0000, 0.0000, 0.0275, 0.5176,\n",
            "          0.8941, 0.2745, 0.0039, 0.0000, 0.0000, 0.0000, 0.0000, 0.0000,\n",
            "          0.0000, 0.0000, 0.0000, 0.0000],\n",
            "         [0.0000, 0.0000, 0.0000, 0.0000, 0.0000, 0.0000, 0.0431, 0.7608,\n",
            "          0.5804, 0.1804, 0.2627, 0.0510, 0.0000, 0.0353, 0.4863, 0.8549,\n",
            "          0.5020, 0.0196, 0.0000, 0.0000, 0.0000, 0.0000, 0.0000, 0.0000,\n",
            "          0.0000, 0.0000, 0.0000, 0.0000],\n",
            "         [0.0000, 0.0000, 0.0000, 0.0000, 0.0000, 0.0000, 0.0431, 0.7529,\n",
            "          0.9137, 0.8941, 0.9176, 0.2588, 0.0000, 0.1412, 0.7882, 0.5529,\n",
            "          0.0706, 0.0000, 0.0000, 0.0000, 0.0000, 0.0000, 0.0000, 0.0000,\n",
            "          0.0000, 0.0000, 0.0000, 0.0000],\n",
            "         [0.0000, 0.0000, 0.0000, 0.0000, 0.0000, 0.0000, 0.0157, 0.2706,\n",
            "          0.5255, 0.6000, 0.4745, 0.0588, 0.0000, 0.0157, 0.1176, 0.0314,\n",
            "          0.0000, 0.0000, 0.0000, 0.0000, 0.0000, 0.0000, 0.0000, 0.0000,\n",
            "          0.0000, 0.0000, 0.0000, 0.0000],\n",
            "         [0.0000, 0.0000, 0.0000, 0.0000, 0.0000, 0.0000, 0.0000, 0.0000,\n",
            "          0.0000, 0.0000, 0.0000, 0.0000, 0.0000, 0.0000, 0.0000, 0.0000,\n",
            "          0.0000, 0.0000, 0.0000, 0.0000, 0.0000, 0.0000, 0.0000, 0.0000,\n",
            "          0.0000, 0.0000, 0.0000, 0.0000],\n",
            "         [0.0000, 0.0000, 0.0000, 0.0000, 0.0000, 0.0000, 0.0000, 0.0000,\n",
            "          0.0000, 0.0000, 0.0000, 0.0000, 0.0000, 0.0000, 0.0000, 0.0000,\n",
            "          0.0000, 0.0000, 0.0000, 0.0000, 0.0000, 0.0000, 0.0000, 0.0000,\n",
            "          0.0000, 0.0000, 0.0000, 0.0000],\n",
            "         [0.0000, 0.0000, 0.0000, 0.0000, 0.0000, 0.0000, 0.0000, 0.0000,\n",
            "          0.0000, 0.0000, 0.0000, 0.0000, 0.0000, 0.0000, 0.0000, 0.0000,\n",
            "          0.0000, 0.0000, 0.0000, 0.0000, 0.0000, 0.0000, 0.0000, 0.0000,\n",
            "          0.0000, 0.0000, 0.0000, 0.0000],\n",
            "         [0.0000, 0.0000, 0.0000, 0.0000, 0.0000, 0.0000, 0.0000, 0.0000,\n",
            "          0.0000, 0.0000, 0.0000, 0.0000, 0.0000, 0.0000, 0.0000, 0.0000,\n",
            "          0.0000, 0.0000, 0.0000, 0.0000, 0.0000, 0.0000, 0.0000, 0.0000,\n",
            "          0.0000, 0.0000, 0.0000, 0.0000],\n",
            "         [0.0000, 0.0000, 0.0000, 0.0000, 0.0000, 0.0000, 0.0000, 0.0000,\n",
            "          0.0000, 0.0000, 0.0000, 0.0000, 0.0000, 0.0000, 0.0000, 0.0000,\n",
            "          0.0000, 0.0000, 0.0000, 0.0000, 0.0000, 0.0000, 0.0000, 0.0000,\n",
            "          0.0000, 0.0000, 0.0000, 0.0000],\n",
            "         [0.0000, 0.0000, 0.0000, 0.0000, 0.0000, 0.0000, 0.0000, 0.0000,\n",
            "          0.0000, 0.0000, 0.0000, 0.0000, 0.0000, 0.0000, 0.0000, 0.0000,\n",
            "          0.0000, 0.0000, 0.0000, 0.0000, 0.0000, 0.0000, 0.0000, 0.0000,\n",
            "          0.0000, 0.0000, 0.0000, 0.0000],\n",
            "         [0.0000, 0.0000, 0.0000, 0.0000, 0.0000, 0.0000, 0.0000, 0.0000,\n",
            "          0.0000, 0.0000, 0.0000, 0.0000, 0.0000, 0.0000, 0.0000, 0.0000,\n",
            "          0.0000, 0.0000, 0.0000, 0.0000, 0.0000, 0.0000, 0.0000, 0.0000,\n",
            "          0.0000, 0.0000, 0.0000, 0.0000],\n",
            "         [0.0000, 0.0000, 0.0000, 0.0000, 0.0000, 0.0000, 0.0000, 0.0000,\n",
            "          0.0000, 0.0000, 0.0000, 0.0000, 0.0000, 0.0000, 0.0000, 0.0000,\n",
            "          0.0000, 0.0000, 0.0000, 0.0000, 0.0000, 0.0000, 0.0000, 0.0000,\n",
            "          0.0000, 0.0000, 0.0000, 0.0000],\n",
            "         [0.0000, 0.0000, 0.0000, 0.0000, 0.0000, 0.0000, 0.0000, 0.0000,\n",
            "          0.0000, 0.0000, 0.0000, 0.0000, 0.0000, 0.0000, 0.0000, 0.0000,\n",
            "          0.0000, 0.0000, 0.0000, 0.0000, 0.0000, 0.0000, 0.0000, 0.0000,\n",
            "          0.0000, 0.0000, 0.0000, 0.0000],\n",
            "         [0.0000, 0.0000, 0.0000, 0.0000, 0.0000, 0.0000, 0.0000, 0.0000,\n",
            "          0.0000, 0.0000, 0.0000, 0.0000, 0.0000, 0.0000, 0.0000, 0.0000,\n",
            "          0.0000, 0.0000, 0.0000, 0.0000, 0.0000, 0.0000, 0.0000, 0.0000,\n",
            "          0.0000, 0.0000, 0.0000, 0.0000]]]), 0)\n",
            "Label of first image: 0\n"
          ]
        }
      ],
      "source": [
        "print(type(train_dataset))\n",
        "print(f\"Total number of images: {len(train_dataset)}\")\n",
        "print(f\"Sample item format: {train_dataset[0]}\")\n",
        "print(f\"Label of first image: {train_dataset[0][1]}\")"
      ]
    },
    {
      "cell_type": "code",
      "execution_count": 6,
      "metadata": {
        "colab": {
          "base_uri": "https://localhost:8080/"
        },
        "id": "UI6egIfKHc44",
        "outputId": "041f4ed2-2ff3-4445-9f6b-48137942baad"
      },
      "outputs": [
        {
          "name": "stdout",
          "output_type": "stream",
          "text": [
            "['Mkhedruli_(Georgian)/character10', 'Mkhedruli_(Georgian)/character27', 'Mkhedruli_(Georgian)/character14', 'Mkhedruli_(Georgian)/character08', 'Mkhedruli_(Georgian)/character40']\n"
          ]
        }
      ],
      "source": [
        "print(train_dataset._characters[0:5])"
      ]
    },
    {
      "cell_type": "code",
      "execution_count": 7,
      "metadata": {
        "colab": {
          "base_uri": "https://localhost:8080/"
        },
        "id": "BvdaSxePHc44",
        "outputId": "5a294e18-ee29-40cf-951d-5dfe95b0a87b"
      },
      "outputs": [
        {
          "name": "stdout",
          "output_type": "stream",
          "text": [
            "Total character classes: 964\n"
          ]
        }
      ],
      "source": [
        "print(f\"Total character classes: {len(train_dataset._characters)}\")"
      ]
    },
    {
      "cell_type": "code",
      "execution_count": 8,
      "metadata": {
        "colab": {
          "base_uri": "https://localhost:8080/",
          "height": 1000
        },
        "id": "YuA5Cls3Hc44",
        "outputId": "84741009-5f27-4aa1-e6fe-e9de67ea1741"
      },
      "outputs": [
        {
          "data": {
            "image/png": "[encoded data removed]",
            "text/plain": [
              "<Figure size 640x480 with 1 Axes>"
            ]
          },
          "metadata": {},
          "output_type": "display_data"
        },
        {
          "data": {
            "image/png": "[encoded data removed]",
            "text/plain": [
              "<Figure size 640x480 with 1 Axes>"
            ]
          },
          "metadata": {},
          "output_type": "display_data"
        },
        {
          "data": {
            "image/png": "[encoded data removed]",
            "text/plain": [
              "<Figure size 640x480 with 1 Axes>"
            ]
          },
          "metadata": {},
          "output_type": "display_data"
        },
        {
          "data": {
            "image/png": "[encoded data removed]",
            "text/plain": [
              "<Figure size 640x480 with 1 Axes>"
            ]
          },
          "metadata": {},
          "output_type": "display_data"
        },
        {
          "data": {
            "image/png": "[encoded data removed]",
            "text/plain": [
              "<Figure size 640x480 with 1 Axes>"
            ]
          },
          "metadata": {},
          "output_type": "display_data"
        }
      ],
      "source": [
        "# visualize the samples\n",
        "import matplotlib.pyplot as plt\n",
        "\n",
        "def show_image(img_tensor, label=None):\n",
        "    plt.imshow(img_tensor.squeeze(), cmap='gray') # from (1, 28, 28) to (28, 28), [h,w] for grascale, and [h,w,3] for RGB, [1,h,w] not valid\n",
        "    if label is not None:\n",
        "        plt.title(f\"Label: {label} ({train_dataset._characters[label]})\")\n",
        "    plt.axis('off')\n",
        "    plt.show()\n",
        "\n",
        "# Display 5 random samples\n",
        "import random\n",
        "for _ in range(5):\n",
        "    idx = random.randint(0, len(train_dataset) - 1)\n",
        "    img, label = train_dataset[idx]\n",
        "    show_image(img, label)"
      ]
    },
    {
      "cell_type": "code",
      "execution_count": 9,
      "metadata": {
        "colab": {
          "base_uri": "https://localhost:8080/"
        },
        "id": "s_dSPQZYHc45",
        "outputId": "262e45fa-010f-49d9-f24c-76fe78716539"
      },
      "outputs": [
        {
          "name": "stdout",
          "output_type": "stream",
          "text": [
            "Number of classes: 964\n",
            "Samples per class (should be 20): [(0, 20), (1, 20), (2, 20), (3, 20), (4, 20)]\n"
          ]
        }
      ],
      "source": [
        "from collections import Counter\n",
        "\n",
        "label_counts = Counter(label for _, label in train_dataset)\n",
        "print(f\"Number of classes: {len(label_counts)}\")\n",
        "print(f\"Samples per class (should be 20): {label_counts.most_common(5)}\")\n"
      ]
    },
    {
      "cell_type": "markdown",
      "metadata": {
        "id": "mi6ahI4UHc45"
      },
      "source": [
        "# DataLoader\n",
        "- For Matching Networks/Few-shot learning each training step is a mini-task/episode containing\n",
        "    - a support set\n",
        "    - a query set\n",
        "    - all from a random subset of N classes\n",
        "    - Need to build a custom episdoe sampler then wrap with Dataloader"
      ]
    },
    {
      "cell_type": "markdown",
      "metadata": {
        "id": "_nY3d3-IHc45"
      },
      "source": [
        "Few Shot Episode:\n",
        "- `N` -> N way, number of classes, N <= 964, but ofcourse make much smaller\n",
        "- `K` -> K shot, number of samples per class, K <= 20here but make much smaller, 1 shot, 5 shot etc.\n",
        "- `Q` -> Q query, number of examples per class"
      ]
    },
    {
      "cell_type": "code",
      "execution_count": 11,
      "metadata": {
        "id": "TkR4B4WEHc45"
      },
      "outputs": [],
      "source": [
        "from collections import defaultdict\n",
        "\n",
        "train_class_to_indices = defaultdict(list)\n",
        "for i, (_, label) in enumerate(train_dataset):\n",
        "    train_class_to_indices[label].append(i)"
      ]
    },
    {
      "cell_type": "code",
      "execution_count": 12,
      "metadata": {
        "colab": {
          "base_uri": "https://localhost:8080/"
        },
        "id": "ryLjwD4aHc46",
        "outputId": "b69993d2-1211-4058-90e3-fc4d4a4b5646"
      },
      "outputs": [
        {
          "name": "stdout",
          "output_type": "stream",
          "text": [
            "<class 'collections.defaultdict'>\n",
            "964\n"
          ]
        }
      ],
      "source": [
        "print(type(train_class_to_indices)) # defaultdict\n",
        "print(len(train_class_to_indices)) # 964"
      ]
    },
    {
      "cell_type": "code",
      "execution_count": 13,
      "metadata": {
        "colab": {
          "base_uri": "https://localhost:8080/"
        },
        "id": "hm07UA8oHc46",
        "outputId": "cda2483e-ca11-46f2-c24e-5f1826fffa6f"
      },
      "outputs": [
        {
          "data": {
            "text/plain": [
              "[0, 1, 2, 3, 4, 5, 6, 7, 8, 9, 10, 11, 12, 13, 14, 15, 16, 17, 18, 19]"
            ]
          },
          "execution_count": 13,
          "metadata": {},
          "output_type": "execute_result"
        }
      ],
      "source": [
        "train_class_to_indices[0] # first 20 indices happen to correspond to class 0"
      ]
    },
    {
      "cell_type": "code",
      "execution_count": 14,
      "metadata": {
        "colab": {
          "base_uri": "https://localhost:8080/"
        },
        "id": "7ge9ZVsaHc46",
        "outputId": "134edde4-3d69-40a9-b857-55be097c7086"
      },
      "outputs": [
        {
          "data": {
            "text/plain": [
              "[19260,\n",
              " 19261,\n",
              " 19262,\n",
              " 19263,\n",
              " 19264,\n",
              " 19265,\n",
              " 19266,\n",
              " 19267,\n",
              " 19268,\n",
              " 19269,\n",
              " 19270,\n",
              " 19271,\n",
              " 19272,\n",
              " 19273,\n",
              " 19274,\n",
              " 19275,\n",
              " 19276,\n",
              " 19277,\n",
              " 19278,\n",
              " 19279]"
            ]
          },
          "execution_count": 14,
          "metadata": {},
          "output_type": "execute_result"
        }
      ],
      "source": [
        "train_class_to_indices[963] # last 20 indices happen to correspond to class 963"
      ]
    },
    {
      "cell_type": "code",
      "execution_count": 15,
      "metadata": {
        "id": "UNCRh1TWHc46"
      },
      "outputs": [],
      "source": [
        "# idx_to_char_name = {i: name for i, name in enumerate(dataset._characters)}\n",
        "train_idx_to_char_name = {\n",
        "    i: tuple(name.split('/'))  # split 'Alphabet/characterXX' into (Alphabet, character), hmm maybe shouldn't have done it\n",
        "    for i, name in enumerate(train_dataset._characters)\n",
        "}\n"
      ]
    },
    {
      "cell_type": "code",
      "execution_count": 16,
      "metadata": {
        "colab": {
          "base_uri": "https://localhost:8080/"
        },
        "id": "ntg7wUIpHc46",
        "outputId": "3fe6c84b-0156-4791-ed9c-908d73898559"
      },
      "outputs": [
        {
          "name": "stdout",
          "output_type": "stream",
          "text": [
            "('Mkhedruli_(Georgian)', 'character10')\n",
            "('Alphabet_of_the_Magi', 'character15')\n",
            "<class 'tuple'>\n"
          ]
        }
      ],
      "source": [
        "print(train_idx_to_char_name[0])\n",
        "print(train_idx_to_char_name[963]) # confusion with this ones type\n",
        "print(type(train_idx_to_char_name[963])) # str"
      ]
    },
    {
      "cell_type": "code",
      "execution_count": 17,
      "metadata": {
        "colab": {
          "base_uri": "https://localhost:8080/"
        },
        "id": "X6tEyq1WHc47",
        "outputId": "f53a1215-f746-48ef-9489-5ac4e1eb30d6"
      },
      "outputs": [
        {
          "name": "stdout",
          "output_type": "stream",
          "text": [
            "<class 'str'>\n",
            "Mkhedruli_(Georgian)/character10\n"
          ]
        }
      ],
      "source": [
        "# inspect\n",
        "print(type(train_dataset._characters[0]))\n",
        "print(train_dataset._characters[0]) # some older version of omniglot will have (\"Gujarati\", \"character42\") etc\n"
      ]
    },
    {
      "cell_type": "code",
      "execution_count": 18,
      "metadata": {
        "id": "8nbWQPEsHc47"
      },
      "outputs": [],
      "source": [
        "class FewShotEpisodeDataset(Dataset):\n",
        "    \"\"\"\n",
        "    Params:\n",
        "        - dataset: Omniglot dataset\n",
        "        - classes_to_indices: dictionary, which maps class to all the indices in the dataset that correspond to that class\n",
        "        - num_ways: number of classes to sample for each episode\n",
        "        - num_shots: number of support examples per class\n",
        "        - num_queries: number of query examples per class\n",
        "        - num_episodes: number of episodes to sample\n",
        "\n",
        "    __get__item method: returns a random episode (here it is not hte ith index of the dataset, but a random episode)\n",
        "\n",
        "    \"\"\"\n",
        "    def __init__(self, dataset, class_to_indices, idx_to_char_name, num_ways=5, num_shots=1, num_queries=1, num_episodes=1000):\n",
        "        self.dataset = dataset\n",
        "        self.class_to_indices = class_to_indices\n",
        "        self.classes = list(class_to_indices.keys())\n",
        "        self.num_ways = num_ways\n",
        "        self.num_shots = num_shots\n",
        "        self.num_queries = num_queries\n",
        "        self.num_episodes = num_episodes\n",
        "        self.idx_to_char_name = idx_to_char_name\n",
        "\n",
        "    def __len__(self):\n",
        "        # implentation of __len__ method of Dataset pytorch class\n",
        "        return self.num_episodes\n",
        "\n",
        "    def __getitem__(self, _):\n",
        "        # implentation of __getitem__ method of Dataset pytorch class\n",
        "        support_images, support_labels = [], []\n",
        "        query_images, query_labels = [], []\n",
        "\n",
        "        chosen_classes = random.sample(self.classes, self.num_ways) # from all the classes available randomly sample num_ways classes\n",
        "        label_map = {cls: i for i, cls in enumerate(chosen_classes)} # map the class to a new label, eg. classes 4, 93, and 12 become 0, 1, and 2\n",
        "\n",
        "        for cls in chosen_classes:\n",
        "            indices = random.sample(self.class_to_indices[cls], self.num_shots + self.num_queries) # from all the samples you have of that class, randomly pick some to be support and some to be query, so 5shot 1 query, means 6 samples from 20 available in omniglot\n",
        "            support_idxs = indices[:self.num_shots] # first num_shots samples are support\n",
        "            query_idxs = indices[self.num_shots:]\n",
        "\n",
        "            support_images += [self.dataset[i][0] for i in support_idxs]\n",
        "            support_labels += [label_map[cls]] * self.num_shots\n",
        "            query_images += [self.dataset[i][0] for i in query_idxs]\n",
        "            query_labels += [label_map[cls]] * self.num_queries\n",
        "\n",
        "        return {\n",
        "            \"support_images\": torch.stack(support_images),\n",
        "            \"support_labels\": torch.tensor(support_labels),\n",
        "            \"query_images\": torch.stack(query_images),\n",
        "            \"query_labels\": torch.tensor(query_labels),\n",
        "            \"class_names\": [self.idx_to_char_name[c] for c in chosen_classes]\n",
        "        }"
      ]
    },
    {
      "cell_type": "code",
      "execution_count": 19,
      "metadata": {
        "colab": {
          "base_uri": "https://localhost:8080/",
          "height": 617
        },
        "id": "dWwTN8mZHc47",
        "outputId": "742adee1-833a-47bc-d5ae-362b758a9315"
      },
      "outputs": [
        {
          "name": "stdout",
          "output_type": "stream",
          "text": [
            "----------------Printing episode details----------------\n",
            "Support Image shape: torch.Size([5, 1, 28, 28])\n",
            "Support Label shape : torch.Size([5])\n",
            "Class names: [[('Cyrillic',), ('character23',)], [('Sanskrit',), ('character28',)], [('Mkhedruli_(Georgian)',), ('character25',)], [('Latin',), ('character24',)], [('Braille',), ('character10',)]]\n",
            "-----------------------------------------------------\n"
          ]
        },
        {
          "data": {
            "image/png": "[encoded data removed]",
            "text/plain": [
              "<Figure size 1400x500 with 10 Axes>"
            ]
          },
          "metadata": {},
          "output_type": "display_data"
        }
      ],
      "source": [
        "episode_dataset = FewShotEpisodeDataset(train_dataset, train_class_to_indices, train_idx_to_char_name, num_ways=5, num_shots=1, num_queries=1) # 5-way 1-shot 1-query\n",
        "# batch size: number of episodes per gradient step/batch, we compute loss over all queries in a batch in one iteration, and backpropogate losses\n",
        "episode_loader = DataLoader(episode_dataset, batch_size=1, shuffle=True)\n",
        "\n",
        "def visualize_episode(episode):\n",
        "    \"\"\"\n",
        "    visualize a few shot epidsode and look at the support and query images\n",
        "    \"\"\"\n",
        "    print(\"----------------Printing episode details----------------\")\n",
        "    print(f\"Support Image shape: {episode['support_images'][0].shape}\")\n",
        "    print(f\"Support Label shape : {episode['support_labels'][0].shape}\")\n",
        "    print(f\"Class names: {episode['class_names']}\")\n",
        "    print(\"-----------------------------------------------------\")\n",
        "    support_imgs = episode['support_images'][0] # doesn't matter what the index is? since getitem returns some random episode\n",
        "    support_labels = episode['support_labels'][0]\n",
        "    query_imgs = episode['query_images'][0]\n",
        "    query_labels = episode['query_labels'][0]\n",
        "    class_names = episode['class_names']\n",
        "\n",
        "    num_classes = len(class_names)\n",
        "    fig, axes = plt.subplots(2, num_classes, figsize=(14, 5))\n",
        "    fig.suptitle(\"Few-Shot Episode (Support & Query Images with Class Labels)\", fontsize=14)\n",
        "\n",
        "    # print(type(class_names[0]))  #  <class 'tuple'>\n",
        "    # print(class_names[0])        #  ('Mkhedruli_(Georgian)/character11',)\n",
        "    # print(class_names[0][0].split('/')) # ['Armenian', 'character38']\n",
        "\n",
        "    for i in range(num_classes):\n",
        "        # --- Support ---\n",
        "        support_class_idx = support_labels[i].item()\n",
        "        # l = class_names[support_class_idx][0].split('/')\n",
        "        # alphabet= l[0]\n",
        "        # character = l[1]\n",
        "        alphabet, character = class_names[support_class_idx]\n",
        "        axes[0][i].imshow(support_imgs[i].squeeze(), cmap='gray')\n",
        "        axes[0][i].set_title(f\"Support\\nClass {support_class_idx}\\n{alphabet}/{character}\", fontsize=8)\n",
        "        axes[0][i].axis('off')\n",
        "\n",
        "        # --- Query ---\n",
        "        query_class_idx = query_labels[i].item()\n",
        "        alphabet, character = class_names[query_class_idx]\n",
        "        axes[1][i].imshow(query_imgs[i].squeeze(), cmap='gray')\n",
        "        axes[1][i].set_title(f\"Query\\nClass {query_class_idx}\\n{alphabet}/{character}\", fontsize=8)\n",
        "        axes[1][i].axis('off')\n",
        "\n",
        "    plt.tight_layout()\n",
        "    plt.show()\n",
        "\n",
        "\n",
        "# Visualize a few episodes\n",
        "episode = next(iter(episode_loader))\n",
        "visualize_episode(episode)\n"
      ]
    },
    {
      "cell_type": "markdown",
      "metadata": {
        "id": "HZS77_obHc47"
      },
      "source": [
        "# Model"
      ]
    },
    {
      "cell_type": "code",
      "execution_count": 20,
      "metadata": {
        "id": "rvypNJ_rHc48"
      },
      "outputs": [],
      "source": [
        "def ConvLayer(in_channels, out_channels):\n",
        "    cnnSeq = nn.Sequential(\n",
        "        nn.Conv2d(in_channels, out_channels, kernel_size=3, stride=1, padding=1),\n",
        "        nn.ReLU(),\n",
        "        nn.BatchNorm2d(out_channels), # normalise the output of the conv layer\n",
        "        nn.MaxPool2d(kernel_size=2),\n",
        "        # nn.Dropout(prob)\n",
        "    )\n",
        "    return cnnSeq\n",
        "\n",
        "# Embedding network: Section 2.1 - CNN used for f(x) and g(x)\n",
        "# \"parameterised variously as deep convolutional networks...\"\n",
        "# we apply the same cnn to both the support and query images, 5 at once parallely in batch processing\n",
        "# shared feature extractor like in hte paper\n",
        "# because we want to map to same embedding space\n",
        "class ConvEmbeddingNet(nn.Module):\n",
        "    def __init__(self, output_size=64):\n",
        "        super().__init__()\n",
        "        self.encoder = nn.Sequential(\n",
        "            ConvLayer(1, 64),  # 28x28 -> 14x14 (maxpool), 1 gray scale image in channel, 64 out channels\n",
        "            ConvLayer(64, 64),  # 14x14 -> 7x7\n",
        "            ConvLayer(64,64),  # 7x7 -> 3x3\n",
        "            nn.Flatten(),  # 64 * 3 * 3 = 576 dims\n",
        "            nn.Linear(576, output_size)  # final embedding size\n",
        "        )\n",
        "\n",
        "    def forward(self, x):\n",
        "        return self.encoder(x)\n",
        "\n",
        "\n",
        "# Full Context Embedding for Support Set (BiLSTM)\n",
        "# Section 2.1.2: \"... we use a bidirectional LSTM to encode xi\n",
        "# use bidirectional lstm to get full context of the support set\n",
        "# so g'(x1) to g'(xN*K) from CNN(support embeddings)\n",
        "# output: context enhances embeddings for each support image\n",
        "class SupportSetEncoder(nn.Module):\n",
        "    def __init__(self, embed_dim):\n",
        "        super().__init__()\n",
        "        self.lstm = nn.LSTM(embed_dim, embed_dim, batch_first=True, bidirectional=True)\n",
        "        self.projection = nn.Linear(embed_dim * 2, embed_dim)  # reduce back to original dim\n",
        "\n",
        "    def forward(self, support_embeddings):\n",
        "        # support_embeddings: (N*K, D)\n",
        "        # Add sequence dimension: (1, N*K, D)\n",
        "        seq = support_embeddings.unsqueeze(0)\n",
        "        contextual, _ = self.lstm(seq)  # output: (1, N*K, 2*D)\n",
        "        contextual = contextual.squeeze(0)  # remove sequence dim -> (N*K, 2*D)\n",
        "        return self.projection(contextual)  # project back to D\n",
        "\n",
        "# Attention LSTM for Query Embedding (Section 2.1.2)\n",
        "# \"an LSTM with read-attention over the whole set S\"\n",
        "# full context embedding of hte query (Attention LSTM)\n",
        "# query_embedding = LSTM(f′(x̂), attention_over_S)\n",
        "# query_embeddings = [f(x̂₁|S), f(x̂₂|S), ..., f(x̂_Q|S)]  # shape: [N×Q, D]\n",
        "\n",
        "class AttentionQueryEncoder(nn.Module):\n",
        "    def __init__(self, embed_dim):\n",
        "        super().__init__()\n",
        "        self.lstm_cell = nn.LSTMCell(embed_dim * 2, embed_dim) # concatenate query embedding and read (attention weighted sum over support set)\n",
        "        self.attention = nn.Linear(embed_dim, embed_dim)\n",
        "\n",
        "    def forward(self, query_embedding, support_embeddings, steps=1):\n",
        "        # query_embedding: (D,), support_embeddings: (N*K, D)\n",
        "        h = torch.zeros_like(query_embedding) # long term\n",
        "        c = torch.zeros_like(query_embedding) # short term\n",
        "\n",
        "        for _ in range(steps):\n",
        "            # Compute attention weights\n",
        "            attn_query = self.attention(h)  # (D,) # pass in the hidden state\n",
        "            similarities = torch.matmul(support_embeddings, attn_query)  # (N*K,)\n",
        "            weights = F.softmax(similarities, dim=0)\n",
        "\n",
        "            # Weighted read from support set\n",
        "            read = torch.sum(weights.unsqueeze(1) * support_embeddings, dim=0)  # (D,)\n",
        "\n",
        "            # LSTM update\n",
        "            h, c = self.lstm_cell(torch.cat([query_embedding, read], dim=-1), (h, c))\n",
        "\n",
        "        return h  # final attended query representation\n",
        "\n",
        "\n",
        "# Matching Network using attention and context-aware embeddings\n",
        "# Equation (1): y_hat = sum_i a(x̂, x_i) * y_i\n",
        "class MatchingNetworkFCE(nn.Module):\n",
        "    def __init__(self, embedding_net, embed_dim, use_fce=True):\n",
        "        super().__init__()\n",
        "        self.embedding_net = embedding_net\n",
        "        self.use_fce = use_fce\n",
        "\n",
        "        if use_fce:\n",
        "            self.support_encoder = SupportSetEncoder(embed_dim)\n",
        "            self.query_encoder = AttentionQueryEncoder(embed_dim)\n",
        "\n",
        "    def forward(self, support_images, support_labels, query_images):\n",
        "        #  Embed support and query images with base CNN\n",
        "        support_embeddings = self.embedding_net(support_images)  # (N*K, D)\n",
        "        query_embeddings = self.embedding_net(query_images)      # (N*Q, D)\n",
        "\n",
        "        #  Apply Full Context Embeddings if enabled\n",
        "        if self.use_fce:\n",
        "            support_embeddings = self.support_encoder(support_embeddings)\n",
        "            query_embeddings = torch.stack([\n",
        "                self.query_encoder(q, support_embeddings) for q in query_embeddings\n",
        "            ], dim=0) # 5 queries of [64] so 5x64\n",
        "\n",
        "        #  Compute attention weights (cosine similarity)\n",
        "        support_norm = F.normalize(support_embeddings, dim=1)  # (N*K, D)\n",
        "        query_norm = F.normalize(query_embeddings, dim=1)      # (N*Q, D)\n",
        "        similarities = torch.matmul(query_norm, support_norm.T)  # (N*Q, N*K)\n",
        "\n",
        "        # Compute predictions using soft nearest neighbors\n",
        "        attention = F.softmax(similarities, dim=1)  # (N*Q, N*K)\n",
        "        one_hot_labels = F.one_hot(support_labels, num_classes=attention.size(1)).float()\n",
        "        preds = torch.matmul(attention, one_hot_labels)  # (N*Q, N*K) @ (N*K, C) = (N*Q, C)\n",
        "\n",
        "        return preds"
      ]
    },
    {
      "cell_type": "code",
      "execution_count": 21,
      "metadata": {
        "id": "YoGVJ3E_Hc48"
      },
      "outputs": [],
      "source": [
        "device = torch.device(\"cuda\" if torch.cuda.is_available() else \"cpu\")\n",
        "\n",
        "model = MatchingNetworkFCE(\n",
        "    embedding_net=ConvEmbeddingNet(output_size=64),\n",
        "    embed_dim=64,\n",
        "    use_fce=True\n",
        ").to(device)\n",
        "\n",
        "# adam optimizer with cross entropy loss like always\n",
        "optimizer = torch.optim.Adam(model.parameters(), lr=1e-3)\n",
        "# adaptive, adjusts learning rates per parameter,combines momentum adn RMSProp\n",
        "# it is also better for meta-learning setups\n",
        "loss_fn = nn.CrossEntropyLoss()# standard for multi class"
      ]
    },
    {
      "cell_type": "code",
      "execution_count": 22,
      "metadata": {
        "colab": {
          "base_uri": "https://localhost:8080/"
        },
        "id": "-uQntAM8iaky",
        "outputId": "a165a071-7f61-435c-e9b0-11ff594997e4"
      },
      "outputs": [
        {
          "name": "stdout",
          "output_type": "stream",
          "text": [
            "First layer weight mean: -0.014697042293846607\n"
          ]
        }
      ],
      "source": [
        "print(f\"First layer weight mean: {model.embedding_net.encoder[0][0].weight.mean().item()}\")"
      ]
    },
    {
      "cell_type": "code",
      "execution_count": 23,
      "metadata": {
        "colab": {
          "base_uri": "https://localhost:8080/"
        },
        "id": "RCuTx5znHc48",
        "outputId": "55194554-8438-47e0-f722-4a16ceca66f5"
      },
      "outputs": [
        {
          "name": "stdout",
          "output_type": "stream",
          "text": [
            "\n",
            "Epoch 1/10\n"
          ]
        },
        {
          "name": "stderr",
          "output_type": "stream",
          "text": [
            "Training episodes: 100%|██████████| 1000/1000 [00:19<00:00, 52.27it/s, Loss=1.4084, Acc=100.00%]\n"
          ]
        },
        {
          "name": "stdout",
          "output_type": "stream",
          "text": [
            "Epoch 1 Summary → Loss: 1.4828 | Accuracy: 64.38%\n",
            "\n",
            "Epoch 2/10\n"
          ]
        },
        {
          "name": "stderr",
          "output_type": "stream",
          "text": [
            "Training episodes: 100%|██████████| 1000/1000 [00:21<00:00, 47.50it/s, Loss=1.4873, Acc=40.00%]\n"
          ]
        },
        {
          "name": "stdout",
          "output_type": "stream",
          "text": [
            "Epoch 2 Summary → Loss: 1.4603 | Accuracy: 72.44%\n",
            "\n",
            "Epoch 3/10\n"
          ]
        },
        {
          "name": "stderr",
          "output_type": "stream",
          "text": [
            "Training episodes: 100%|██████████| 1000/1000 [00:17<00:00, 56.74it/s, Loss=1.5111, Acc=60.00%]\n"
          ]
        },
        {
          "name": "stdout",
          "output_type": "stream",
          "text": [
            "Epoch 3 Summary → Loss: 1.4553 | Accuracy: 74.46%\n",
            "\n",
            "Epoch 4/10\n"
          ]
        },
        {
          "name": "stderr",
          "output_type": "stream",
          "text": [
            "Training episodes: 100%|██████████| 1000/1000 [00:17<00:00, 57.30it/s, Loss=1.4144, Acc=100.00%]\n"
          ]
        },
        {
          "name": "stdout",
          "output_type": "stream",
          "text": [
            "Epoch 4 Summary → Loss: 1.4496 | Accuracy: 76.72%\n",
            "\n",
            "Epoch 5/10\n"
          ]
        },
        {
          "name": "stderr",
          "output_type": "stream",
          "text": [
            "Training episodes: 100%|██████████| 1000/1000 [00:16<00:00, 59.05it/s, Loss=1.4380, Acc=100.00%]\n"
          ]
        },
        {
          "name": "stdout",
          "output_type": "stream",
          "text": [
            "Epoch 5 Summary → Loss: 1.4494 | Accuracy: 76.22%\n",
            "\n",
            "Epoch 6/10\n"
          ]
        },
        {
          "name": "stderr",
          "output_type": "stream",
          "text": [
            "Training episodes: 100%|██████████| 1000/1000 [00:18<00:00, 54.77it/s, Loss=1.4165, Acc=80.00%]\n"
          ]
        },
        {
          "name": "stdout",
          "output_type": "stream",
          "text": [
            "Epoch 6 Summary → Loss: 1.4467 | Accuracy: 77.54%\n",
            "\n",
            "Epoch 7/10\n"
          ]
        },
        {
          "name": "stderr",
          "output_type": "stream",
          "text": [
            "Training episodes: 100%|██████████| 1000/1000 [00:18<00:00, 54.46it/s, Loss=1.4699, Acc=80.00%]\n"
          ]
        },
        {
          "name": "stdout",
          "output_type": "stream",
          "text": [
            "Epoch 7 Summary → Loss: 1.4469 | Accuracy: 77.10%\n",
            "\n",
            "Epoch 8/10\n"
          ]
        },
        {
          "name": "stderr",
          "output_type": "stream",
          "text": [
            "Training episodes: 100%|██████████| 1000/1000 [00:19<00:00, 50.39it/s, Loss=1.4226, Acc=100.00%]\n"
          ]
        },
        {
          "name": "stdout",
          "output_type": "stream",
          "text": [
            "Epoch 8 Summary → Loss: 1.4432 | Accuracy: 78.12%\n",
            "\n",
            "Epoch 9/10\n"
          ]
        },
        {
          "name": "stderr",
          "output_type": "stream",
          "text": [
            "Training episodes: 100%|██████████| 1000/1000 [00:16<00:00, 59.38it/s, Loss=1.5313, Acc=60.00%]\n"
          ]
        },
        {
          "name": "stdout",
          "output_type": "stream",
          "text": [
            "Epoch 9 Summary → Loss: 1.4443 | Accuracy: 78.20%\n",
            "\n",
            "Epoch 10/10\n"
          ]
        },
        {
          "name": "stderr",
          "output_type": "stream",
          "text": [
            "Training episodes: 100%|██████████| 1000/1000 [00:17<00:00, 57.33it/s, Loss=1.4498, Acc=80.00%]"
          ]
        },
        {
          "name": "stdout",
          "output_type": "stream",
          "text": [
            "Epoch 10 Summary → Loss: 1.4442 | Accuracy: 78.82%\n"
          ]
        },
        {
          "name": "stderr",
          "output_type": "stream",
          "text": [
            "\n"
          ]
        }
      ],
      "source": [
        "from tqdm import tqdm\n",
        "\n",
        "num_epochs = 10\n",
        "acc_list = []\n",
        "loss_list = []\n",
        "\n",
        "for epoch in range(num_epochs):\n",
        "    total_loss = 0\n",
        "    total_correct = 0\n",
        "    total_queries = 0\n",
        "\n",
        "    print(f\"\\nEpoch {epoch+1}/{num_epochs}\")\n",
        "    episode_bar = tqdm(episode_loader, desc=\"Training episodes\")\n",
        "\n",
        "    for episode in episode_bar:\n",
        "        support_images = episode['support_images'][0].to(device)  # shape [N*K, 1, 28, 28]\n",
        "        support_labels = episode['support_labels'][0].to(device)  # shape [N*K]\n",
        "        query_images = episode['query_images'][0].to(device)      # shape [N*Q, 1, 28, 28]\n",
        "        query_labels = episode['query_labels'][0].to(device)      # shape [N*Q]\n",
        "\n",
        "        logits = model(support_images, support_labels, query_images)  # shape [N*Q, N]\n",
        "        preds = torch.argmax(logits, dim=1)\n",
        "        correct = (preds == query_labels).sum().item()\n",
        "        loss = loss_fn(logits, query_labels)\n",
        "\n",
        "        optimizer.zero_grad()\n",
        "        loss.backward()\n",
        "        optimizer.step()\n",
        "\n",
        "        total_loss += loss.item()\n",
        "        total_correct += correct\n",
        "        total_queries += query_labels.size(0)\n",
        "\n",
        "        episode_bar.set_postfix({\n",
        "            \"Loss\": f\"{loss.item():.4f}\",\n",
        "            \"Acc\": f\"{(correct / query_labels.size(0)) * 100:.2f}%\"\n",
        "        })\n",
        "\n",
        "    avg_loss = total_loss / len(episode_loader)\n",
        "    accuracy = total_correct / total_queries * 100\n",
        "    acc_list.append(accuracy)\n",
        "    loss_list.append(avg_loss)\n",
        "\n",
        "    print(f\"Epoch {epoch+1} Summary → Loss: {avg_loss:.4f} | Accuracy: {accuracy:.2f}%\")\n"
      ]
    },
    {
      "cell_type": "code",
      "execution_count": 24,
      "metadata": {
        "colab": {
          "base_uri": "https://localhost:8080/"
        },
        "id": "kig7OHo0Lyo2",
        "outputId": "22c86255-6c42-414f-b061-8093f289af69"
      },
      "outputs": [
        {
          "name": "stdout",
          "output_type": "stream",
          "text": [
            "First layer weight mean: -0.02747412770986557\n"
          ]
        }
      ],
      "source": [
        "print(f\"First layer weight mean: {model.embedding_net.encoder[0][0].weight.mean().item()}\") # run once before training also"
      ]
    },
    {
      "cell_type": "markdown",
      "metadata": {
        "id": "KNAVbHV1JwrA"
      },
      "source": [
        "## Results (small changes over different runs of the code so might not exactly match)\n",
        "\n",
        "| Epoch | Avg Loss ↓ | Accuracy ↑ |\n",
        "|-------|------------|------------|\n",
        "| 1     | 1.4918     | 61.68%     |\n",
        "| 5     | 1.4517     | 75.10%     |\n",
        "| 10    | 1.4450     | 78.36%     |\n",
        "\n",
        "### Observations:\n",
        "- Loss is **decreasing slowly but steadily** → typical in meta-learning\n",
        "- Accuracy is **increasing steadily** up to nearly 80%\n",
        "- Per-episode accuracy (last step in tqdm bar) is noisy → that's expected in few-shot\n",
        "\n",
        "- Predicting over **5 classes** using only **1 support image per class**\n",
        "- The model can’t \"memorize\" — it must **generalize well from little support**\n",
        "- FCE (contextual embeddings) helps, but learning good embeddings takes time\n",
        "\n",
        "## Note: `Acc=80%` in tqdm but final epoch shows 78.36%?\n",
        "- `Acc=80%` is the accuracy **on that specific episode**\n",
        "- The final **epoch summary** averages over **1000 episodes**\n",
        "\n",
        "So per-episode accuracy will jump around (depending on how hard the episode is)."
      ]
    },
    {
      "cell_type": "code",
      "execution_count": 25,
      "metadata": {
        "colab": {
          "base_uri": "https://localhost:8080/",
          "height": 472
        },
        "id": "EOjRU1uOH-Jw",
        "outputId": "9a934c7d-5812-4088-d21d-3ebf290b5f58"
      },
      "outputs": [
        {
          "data": {
            "image/png": "[encoded data removed]",
            "text/plain": [
              "<Figure size 640x480 with 1 Axes>"
            ]
          },
          "metadata": {},
          "output_type": "display_data"
        }
      ],
      "source": [
        "import matplotlib.pyplot as plt\n",
        "\n",
        "plt.plot(range(1, num_epochs+1), acc_list, label='Accuracy')\n",
        "plt.plot(range(1, num_epochs+1), loss_list, label='Loss')\n",
        "plt.legend()\n",
        "plt.xlabel('Epoch')\n",
        "plt.title('Training Curve')\n",
        "plt.grid()\n",
        "plt.show()"
      ]
    },
    {
      "cell_type": "markdown",
      "metadata": {
        "id": "zjQoCzu2RhtH"
      },
      "source": [
        "# Test"
      ]
    },
    {
      "cell_type": "code",
      "execution_count": 26,
      "metadata": {
        "colab": {
          "base_uri": "https://localhost:8080/"
        },
        "id": "B35nyfWijGD8",
        "outputId": "9b0da1c6-47f5-4644-b401-535e245d58f4"
      },
      "outputs": [
        {
          "name": "stderr",
          "output_type": "stream",
          "text": [
            "100%|██████████| 6.46M/6.46M [00:00<00:00, 77.8MB/s]\n"
          ]
        }
      ],
      "source": [
        "test_dataset = Omniglot(\n",
        "    root=tmp_dir.name,\n",
        "    background=False, # evaluation set\n",
        "    transform=transform,\n",
        "    download=True\n",
        ")"
      ]
    },
    {
      "cell_type": "markdown",
      "metadata": {
        "id": "RoexqQuUT3jg"
      },
      "source": []
    },
    {
      "cell_type": "code",
      "execution_count": 27,
      "metadata": {
        "colab": {
          "base_uri": "https://localhost:8080/"
        },
        "id": "NRmhLf_HZkyR",
        "outputId": "274a2d05-5246-43ec-997f-bd67386eca43"
      },
      "outputs": [
        {
          "name": "stdout",
          "output_type": "stream",
          "text": [
            "<class 'torchvision.datasets.omniglot.Omniglot'>\n",
            "Total number of images: 13180\n",
            "Sample item format: (tensor([[[0.0000, 0.0000, 0.0000, 0.0000, 0.0000, 0.0000, 0.0000, 0.0000,\n",
            "          0.0000, 0.0000, 0.0000, 0.0000, 0.0000, 0.0000, 0.0000, 0.0000,\n",
            "          0.0000, 0.0000, 0.0000, 0.0000, 0.0000, 0.0000, 0.0000, 0.0000,\n",
            "          0.0000, 0.0000, 0.0000, 0.0000],\n",
            "         [0.0000, 0.0000, 0.0000, 0.0000, 0.0000, 0.0000, 0.0000, 0.0000,\n",
            "          0.0000, 0.0000, 0.0000, 0.0000, 0.0000, 0.0000, 0.0000, 0.0000,\n",
            "          0.0000, 0.0000, 0.0000, 0.0000, 0.0000, 0.0000, 0.0000, 0.0000,\n",
            "          0.0000, 0.0000, 0.0000, 0.0000],\n",
            "         [0.0000, 0.0000, 0.0000, 0.0000, 0.0000, 0.0000, 0.0000, 0.0000,\n",
            "          0.0000, 0.0000, 0.0000, 0.0863, 0.1216, 0.0078, 0.0000, 0.0000,\n",
            "          0.0000, 0.0000, 0.0000, 0.0000, 0.0000, 0.0000, 0.0000, 0.0000,\n",
            "          0.0000, 0.0000, 0.0000, 0.0000],\n",
            "         [0.0000, 0.0000, 0.0000, 0.0000, 0.0000, 0.0000, 0.0000, 0.0000,\n",
            "          0.0000, 0.0000, 0.0000, 0.4902, 0.7725, 0.1020, 0.0000, 0.0000,\n",
            "          0.0000, 0.0000, 0.0000, 0.0000, 0.0000, 0.0000, 0.0000, 0.0000,\n",
            "          0.0000, 0.0000, 0.0000, 0.0000],\n",
            "         [0.0000, 0.0000, 0.0000, 0.0000, 0.0000, 0.0000, 0.0000, 0.0000,\n",
            "          0.0000, 0.0000, 0.0000, 0.5373, 0.9098, 0.1608, 0.0000, 0.0000,\n",
            "          0.0000, 0.0000, 0.0000, 0.0000, 0.0000, 0.0000, 0.0000, 0.0000,\n",
            "          0.0000, 0.0000, 0.0000, 0.0000],\n",
            "         [0.0000, 0.0000, 0.0000, 0.0000, 0.0000, 0.0000, 0.0000, 0.0000,\n",
            "          0.0000, 0.0000, 0.0000, 0.5373, 0.9137, 0.1725, 0.0000, 0.0078,\n",
            "          0.0471, 0.0118, 0.0000, 0.0000, 0.0000, 0.0000, 0.0000, 0.0000,\n",
            "          0.0000, 0.0000, 0.0000, 0.0000],\n",
            "         [0.0000, 0.0000, 0.0000, 0.0000, 0.0000, 0.0000, 0.0000, 0.0000,\n",
            "          0.0000, 0.0000, 0.0000, 0.5373, 0.9765, 0.3098, 0.0549, 0.4549,\n",
            "          0.7608, 0.3294, 0.0000, 0.0000, 0.0000, 0.0000, 0.0000, 0.0000,\n",
            "          0.0000, 0.0000, 0.0000, 0.0000],\n",
            "         [0.0000, 0.0000, 0.0000, 0.0000, 0.0000, 0.0000, 0.0000, 0.0000,\n",
            "          0.0000, 0.0000, 0.0000, 0.5373, 0.9961, 0.5843, 0.6824, 0.9176,\n",
            "          0.9647, 0.5961, 0.0000, 0.0000, 0.0000, 0.0000, 0.0000, 0.0000,\n",
            "          0.0000, 0.0000, 0.0000, 0.0000],\n",
            "         [0.0000, 0.0000, 0.0000, 0.0000, 0.0000, 0.0000, 0.0000, 0.0000,\n",
            "          0.0000, 0.0000, 0.0078, 0.5608, 1.0000, 0.9647, 0.7373, 0.3255,\n",
            "          0.7255, 0.6196, 0.0039, 0.0000, 0.0000, 0.0000, 0.0000, 0.0000,\n",
            "          0.0000, 0.0000, 0.0000, 0.0000],\n",
            "         [0.0000, 0.0000, 0.0000, 0.0000, 0.0000, 0.0000, 0.0000, 0.0588,\n",
            "          0.1882, 0.2078, 0.4549, 0.8784, 0.9020, 0.4157, 0.0863, 0.0039,\n",
            "          0.5020, 0.7725, 0.0510, 0.0000, 0.0000, 0.0000, 0.0000, 0.0000,\n",
            "          0.0000, 0.0000, 0.0000, 0.0000],\n",
            "         [0.0000, 0.0000, 0.0000, 0.0000, 0.0000, 0.0000, 0.0000, 0.2627,\n",
            "          0.8706, 0.8980, 0.8667, 0.8863, 0.7608, 0.0431, 0.0000, 0.0000,\n",
            "          0.4627, 0.8039, 0.0627, 0.0000, 0.0000, 0.0000, 0.0000, 0.0000,\n",
            "          0.0000, 0.0000, 0.0000, 0.0000],\n",
            "         [0.0000, 0.0000, 0.0000, 0.0000, 0.0000, 0.0000, 0.0000, 0.0706,\n",
            "          0.2353, 0.2392, 0.1451, 0.5608, 0.7608, 0.0431, 0.0000, 0.0000,\n",
            "          0.4627, 0.8039, 0.0627, 0.0000, 0.0000, 0.0000, 0.0000, 0.0000,\n",
            "          0.0000, 0.0000, 0.0000, 0.0000],\n",
            "         [0.0000, 0.0000, 0.0000, 0.0000, 0.0000, 0.0000, 0.0000, 0.0000,\n",
            "          0.0000, 0.0000, 0.0000, 0.5373, 0.7608, 0.0431, 0.0000, 0.0000,\n",
            "          0.4627, 0.8039, 0.0627, 0.0000, 0.0000, 0.0000, 0.0000, 0.0000,\n",
            "          0.0000, 0.0000, 0.0000, 0.0000],\n",
            "         [0.0000, 0.0000, 0.0000, 0.0000, 0.0000, 0.0000, 0.0000, 0.0000,\n",
            "          0.0000, 0.0000, 0.0000, 0.5373, 0.7608, 0.0431, 0.0000, 0.0000,\n",
            "          0.4627, 0.8039, 0.0627, 0.0000, 0.0000, 0.0000, 0.0000, 0.0000,\n",
            "          0.0000, 0.0000, 0.0000, 0.0000],\n",
            "         [0.0000, 0.0000, 0.0000, 0.0000, 0.0000, 0.0000, 0.0000, 0.0000,\n",
            "          0.0000, 0.0000, 0.0000, 0.5373, 0.7608, 0.0431, 0.0000, 0.0000,\n",
            "          0.4157, 0.6745, 0.0392, 0.0000, 0.0000, 0.0000, 0.0000, 0.0000,\n",
            "          0.0000, 0.0000, 0.0000, 0.0000],\n",
            "         [0.0000, 0.0000, 0.0000, 0.0000, 0.0000, 0.0000, 0.0000, 0.0000,\n",
            "          0.0000, 0.0000, 0.0000, 0.4078, 0.8275, 0.1059, 0.0000, 0.0000,\n",
            "          0.0745, 0.1020, 0.0000, 0.0000, 0.0000, 0.0000, 0.0000, 0.0000,\n",
            "          0.0000, 0.0000, 0.0000, 0.0000],\n",
            "         [0.0000, 0.0000, 0.0000, 0.0000, 0.0000, 0.0000, 0.0000, 0.0000,\n",
            "          0.0000, 0.0000, 0.0000, 0.2784, 0.8941, 0.2039, 0.0000, 0.0000,\n",
            "          0.0000, 0.0000, 0.0000, 0.0000, 0.0000, 0.0000, 0.0000, 0.0000,\n",
            "          0.0000, 0.0000, 0.0000, 0.0000],\n",
            "         [0.0000, 0.0000, 0.0000, 0.0000, 0.0000, 0.0000, 0.0000, 0.0000,\n",
            "          0.0000, 0.0000, 0.0000, 0.1529, 0.8784, 0.3373, 0.0000, 0.0000,\n",
            "          0.0000, 0.0000, 0.0000, 0.0000, 0.0000, 0.0000, 0.0000, 0.0000,\n",
            "          0.0000, 0.0000, 0.0000, 0.0000],\n",
            "         [0.0000, 0.0000, 0.0000, 0.0000, 0.0000, 0.0000, 0.0000, 0.0000,\n",
            "          0.0000, 0.0000, 0.0000, 0.1255, 0.7922, 0.2627, 0.0000, 0.0000,\n",
            "          0.0000, 0.0000, 0.0000, 0.0000, 0.0000, 0.0000, 0.0000, 0.0000,\n",
            "          0.0000, 0.0000, 0.0000, 0.0000],\n",
            "         [0.0000, 0.0000, 0.0000, 0.0000, 0.0000, 0.0000, 0.0000, 0.0000,\n",
            "          0.0000, 0.0000, 0.0000, 0.0510, 0.2039, 0.0235, 0.0000, 0.0000,\n",
            "          0.0000, 0.0000, 0.0000, 0.0000, 0.0000, 0.0000, 0.0000, 0.0000,\n",
            "          0.0000, 0.0000, 0.0000, 0.0000],\n",
            "         [0.0000, 0.0000, 0.0000, 0.0000, 0.0000, 0.0000, 0.0000, 0.0000,\n",
            "          0.0000, 0.0000, 0.0000, 0.0000, 0.0000, 0.0000, 0.0000, 0.0000,\n",
            "          0.0000, 0.0000, 0.0000, 0.0000, 0.0000, 0.0000, 0.0000, 0.0000,\n",
            "          0.0000, 0.0000, 0.0000, 0.0000],\n",
            "         [0.0000, 0.0000, 0.0000, 0.0000, 0.0000, 0.0000, 0.0000, 0.0000,\n",
            "          0.0000, 0.0000, 0.0000, 0.0000, 0.0000, 0.0000, 0.0000, 0.0000,\n",
            "          0.0000, 0.0000, 0.0000, 0.0000, 0.0000, 0.0000, 0.0000, 0.0000,\n",
            "          0.0000, 0.0000, 0.0000, 0.0000],\n",
            "         [0.0000, 0.0000, 0.0000, 0.0000, 0.0000, 0.0000, 0.0000, 0.0000,\n",
            "          0.0000, 0.0000, 0.0000, 0.0000, 0.0000, 0.0000, 0.0000, 0.0000,\n",
            "          0.0000, 0.0000, 0.0000, 0.0000, 0.0000, 0.0000, 0.0000, 0.0000,\n",
            "          0.0000, 0.0000, 0.0000, 0.0000],\n",
            "         [0.0000, 0.0000, 0.0000, 0.0000, 0.0000, 0.0000, 0.0000, 0.0000,\n",
            "          0.0000, 0.0000, 0.0000, 0.0000, 0.0000, 0.0000, 0.0000, 0.0000,\n",
            "          0.0000, 0.0000, 0.0000, 0.0000, 0.0000, 0.0000, 0.0000, 0.0000,\n",
            "          0.0000, 0.0000, 0.0000, 0.0000],\n",
            "         [0.0000, 0.0000, 0.0000, 0.0000, 0.0000, 0.0000, 0.0000, 0.0000,\n",
            "          0.0000, 0.0000, 0.0000, 0.0000, 0.0000, 0.0000, 0.0000, 0.0000,\n",
            "          0.0000, 0.0000, 0.0000, 0.0000, 0.0000, 0.0000, 0.0000, 0.0000,\n",
            "          0.0000, 0.0000, 0.0000, 0.0000],\n",
            "         [0.0000, 0.0000, 0.0000, 0.0000, 0.0000, 0.0000, 0.0000, 0.0000,\n",
            "          0.0000, 0.0000, 0.0000, 0.0000, 0.0000, 0.0000, 0.0000, 0.0000,\n",
            "          0.0000, 0.0000, 0.0000, 0.0000, 0.0000, 0.0000, 0.0000, 0.0000,\n",
            "          0.0000, 0.0000, 0.0000, 0.0000],\n",
            "         [0.0000, 0.0000, 0.0000, 0.0000, 0.0000, 0.0000, 0.0000, 0.0000,\n",
            "          0.0000, 0.0000, 0.0000, 0.0000, 0.0000, 0.0000, 0.0000, 0.0000,\n",
            "          0.0000, 0.0000, 0.0000, 0.0000, 0.0000, 0.0000, 0.0000, 0.0000,\n",
            "          0.0000, 0.0000, 0.0000, 0.0000],\n",
            "         [0.0000, 0.0000, 0.0000, 0.0000, 0.0000, 0.0000, 0.0000, 0.0000,\n",
            "          0.0000, 0.0000, 0.0000, 0.0000, 0.0000, 0.0000, 0.0000, 0.0000,\n",
            "          0.0000, 0.0000, 0.0000, 0.0000, 0.0000, 0.0000, 0.0000, 0.0000,\n",
            "          0.0000, 0.0000, 0.0000, 0.0000]]]), 0)\n",
            "Label of first image: 0\n"
          ]
        }
      ],
      "source": [
        "print(type(test_dataset))\n",
        "print(f\"Total number of images: {len(test_dataset)}\")\n",
        "print(f\"Sample item format: {test_dataset[0]}\")\n",
        "print(f\"Label of first image: {test_dataset[0][1]}\")"
      ]
    },
    {
      "cell_type": "code",
      "execution_count": 28,
      "metadata": {
        "colab": {
          "base_uri": "https://localhost:8080/"
        },
        "id": "T7sI9SDHjfSD",
        "outputId": "12ad249a-2c8a-4f71-c2bf-49765055a3bf"
      },
      "outputs": [
        {
          "name": "stdout",
          "output_type": "stream",
          "text": [
            "Total character classes: 659\n"
          ]
        }
      ],
      "source": [
        "print(f\"Total character classes: {len(test_dataset._characters)}\")"
      ]
    },
    {
      "cell_type": "code",
      "execution_count": 29,
      "metadata": {
        "id": "OERr_ImbjlPr"
      },
      "outputs": [],
      "source": [
        "test_idx_to_char_name = {\n",
        "    i: tuple(name.split('/'))  # split 'Alphabet/characterXX' into (Alphabet, character), hmm maybe shouldn't have done it\n",
        "    for i, name in enumerate(test_dataset._characters)\n",
        "}"
      ]
    },
    {
      "cell_type": "code",
      "execution_count": 30,
      "metadata": {
        "id": "P3yKysSEjrCv"
      },
      "outputs": [],
      "source": [
        "test_class_to_indices = defaultdict(list)\n",
        "for i, (_, label) in enumerate(test_dataset):\n",
        "    test_class_to_indices[label].append(i)"
      ]
    },
    {
      "cell_type": "code",
      "execution_count": 31,
      "metadata": {
        "id": "RZFjC3nCjwCP"
      },
      "outputs": [],
      "source": [
        "from tqdm import tqdm\n",
        "\n",
        "def evaluate_few_shot_model(\n",
        "    model,\n",
        "    test_dataset,\n",
        "    test_class_to_indices,\n",
        "    test_idx_to_char_name,\n",
        "    loss_fn,\n",
        "    num_ways=5,\n",
        "    num_shots=1,\n",
        "    num_queries=1,\n",
        "    num_episodes=100,\n",
        "    device='cuda' if torch.cuda.is_available() else 'cpu'\n",
        "):\n",
        "    model.eval()\n",
        "    model.to(device)\n",
        "\n",
        "    total_loss = 0\n",
        "    total_correct = 0\n",
        "    total_queries = 0\n",
        "\n",
        "    # Create test episode dataset and loader\n",
        "    test_episode_dataset = FewShotEpisodeDataset(\n",
        "        test_dataset,\n",
        "        test_class_to_indices,\n",
        "        test_idx_to_char_name,\n",
        "        num_ways=num_ways,\n",
        "        num_shots=num_shots,\n",
        "        num_queries=num_queries,\n",
        "        num_episodes=num_episodes\n",
        ")\n",
        "\n",
        "\n",
        "    test_loader = DataLoader(test_episode_dataset, batch_size=1, shuffle=False)\n",
        "\n",
        "    print(f\"\\nEvaluating on {num_episodes} test episodes ({num_ways}-way {num_shots}-shot, {num_queries} queries/class)\")\n",
        "    test_bar = tqdm(test_loader, desc=\"Test episodes\")\n",
        "\n",
        "    with torch.no_grad():\n",
        "        for episode in test_bar:\n",
        "            support_images = episode['support_images'][0].to(device)\n",
        "            support_labels = episode['support_labels'][0].to(device)\n",
        "            query_images = episode['query_images'][0].to(device)\n",
        "            query_labels = episode['query_labels'][0].to(device)\n",
        "\n",
        "            logits = model(support_images, support_labels, query_images)\n",
        "            preds = torch.argmax(logits, dim=1)\n",
        "            correct = (preds == query_labels).sum().item()\n",
        "            loss = loss_fn(logits, query_labels)\n",
        "\n",
        "            total_loss += loss.item()\n",
        "            total_correct += correct\n",
        "            total_queries += query_labels.size(0)\n",
        "\n",
        "            test_bar.set_postfix({\n",
        "                \"Loss\": f\"{loss.item():.4f}\",\n",
        "                \"Acc\": f\"{(correct / query_labels.size(0)) * 100:.2f}%\"\n",
        "            })\n",
        "\n",
        "    avg_loss = total_loss / len(test_loader)\n",
        "    accuracy = total_correct / total_queries * 100\n",
        "    print(f\" Test Summary → Loss: {avg_loss:.4f} | Accuracy: {accuracy:.2f}%\")\n",
        "\n",
        "    return accuracy, avg_loss\n",
        "\n"
      ]
    },
    {
      "cell_type": "code",
      "execution_count": 33,
      "metadata": {
        "colab": {
          "base_uri": "https://localhost:8080/"
        },
        "id": "bZ2V5KJqkrBE",
        "outputId": "a757917e-d37a-4611-bed4-a48f0bb69efd"
      },
      "outputs": [
        {
          "name": "stdout",
          "output_type": "stream",
          "text": [
            "\n",
            "Evaluating on 600 test episodes (5-way 1-shot, 1 queries/class)\n"
          ]
        },
        {
          "name": "stderr",
          "output_type": "stream",
          "text": [
            "Test episodes: 100%|██████████| 600/600 [00:05<00:00, 107.18it/s, Loss=1.5533, Acc=20.00%]"
          ]
        },
        {
          "name": "stdout",
          "output_type": "stream",
          "text": [
            " Test Summary → Loss: 1.4885 | Accuracy: 69.13%\n"
          ]
        },
        {
          "name": "stderr",
          "output_type": "stream",
          "text": [
            "\n"
          ]
        }
      ],
      "source": [
        "test_acc, test_loss = evaluate_few_shot_model(\n",
        "    model=model,\n",
        "    test_dataset=test_dataset,\n",
        "    test_class_to_indices=test_class_to_indices,\n",
        "    test_idx_to_char_name=test_idx_to_char_name,\n",
        "    loss_fn=loss_fn,\n",
        "    num_ways=5,\n",
        "    num_shots=1,\n",
        "    num_queries=1,\n",
        "    num_episodes=600, # like in the papers\n",
        "    device=device\n",
        ")\n"
      ]
    },
    {
      "cell_type": "code",
      "execution_count": null,
      "metadata": {
        "id": "hoYsV1Jekt-c"
      },
      "outputs": [],
      "source": []
    }
  ],
  "metadata": {
    "accelerator": "GPU",
    "colab": {
      "gpuType": "T4",
      "provenance": []
    },
    "kernelspec": {
      "display_name": "Python 3",
      "name": "python3"
    },
    "language_info": {
      "codemirror_mode": {
        "name": "ipython",
        "version": 3
      },
      "file_extension": ".py",
      "mimetype": "text/x-python",
      "name": "python",
      "nbconvert_exporter": "python",
      "pygments_lexer": "ipython3",
      "version": "3.11.0"
    }
  },
  "nbformat": 4,
  "nbformat_minor": 0
}
