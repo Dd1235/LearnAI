{
 "cells": [
  {
   "cell_type": "code",
   "execution_count": null,
   "id": "2f9ce7a6",
   "metadata": {
    "vscode": {
     "languageId": "plaintext"
    }
   },
   "outputs": [],
   "source": [
    "Lets Try Implementing Calm"
   ]
  },
  {
   "cell_type": "markdown",
   "id": "35b25ee5",
   "metadata": {},
   "source": []
  }
 ],
 "metadata": {
  "language_info": {
   "name": "python"
  }
 },
 "nbformat": 4,
 "nbformat_minor": 5
}
