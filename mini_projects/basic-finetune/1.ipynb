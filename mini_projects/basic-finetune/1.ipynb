{
 "cells": [
  {
   "cell_type": "markdown",
   "id": "f48724e5",
   "metadata": {},
   "source": [
    "Learning finetuning"
   ]
  },
  {
   "cell_type": "code",
   "execution_count": null,
   "id": "ff9d675d",
   "metadata": {},
   "outputs": [],
   "source": []
  }
 ],
 "metadata": {
  "language_info": {
   "name": "python"
  }
 },
 "nbformat": 4,
 "nbformat_minor": 5
}
