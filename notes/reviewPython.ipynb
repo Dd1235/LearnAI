{
 "cells": [
  {
   "cell_type": "markdown",
   "id": "068b2e62",
   "metadata": {},
   "source": [
    "Review of some Python Syntax"
   ]
  },
  {
   "cell_type": "code",
   "execution_count": 1,
   "id": "f5262ae0",
   "metadata": {},
   "outputs": [
    {
     "name": "stdout",
     "output_type": "stream",
     "text": [
      "Positional: (1, 2)\n",
      "Keyword: {'name': 'Alice', 'age': 30}\n"
     ]
    }
   ],
   "source": [
    "def demo(*args, **kwargs):\n",
    "    print(\"Positional:\", args)\n",
    "    print(\"Keyword:\", kwargs)\n",
    "demo(1,2, name=\"Alice\", age=30)"
   ]
  },
  {
   "cell_type": "code",
   "execution_count": 2,
   "id": "b7fdde18",
   "metadata": {},
   "outputs": [
    {
     "data": {
      "text/plain": [
       "{'e': 1, 'h': 1, 'o': 1, 'l': 2}"
      ]
     },
     "execution_count": 2,
     "metadata": {},
     "output_type": "execute_result"
    }
   ],
   "source": [
    "word = \"hello\"\n",
    "counts = {char: word.count(char) for char in set(word)}\n",
    "counts"
   ]
  },
  {
   "cell_type": "code",
   "execution_count": 3,
   "id": "9abb9e0d",
   "metadata": {},
   "outputs": [
    {
     "data": {
      "text/plain": [
       "[(1, 2), (3, 4), (5, 6)]"
      ]
     },
     "execution_count": 3,
     "metadata": {},
     "output_type": "execute_result"
    }
   ],
   "source": [
    "points = [(1, 2), (3, 4), (5, 6)]\n",
    "sorted_points = sorted(points, key=lambda x:x[1]) # custom sort\n",
    "sorted_points"
   ]
  },
  {
   "cell_type": "code",
   "execution_count": 4,
   "id": "cd36ff30",
   "metadata": {},
   "outputs": [
    {
     "name": "stdout",
     "output_type": "stream",
     "text": [
      "Calling greet\n",
      "Hello Alice\n"
     ]
    }
   ],
   "source": [
    "def log_fn(fn):\n",
    "    def wrapper(*args, **kwargs):\n",
    "        print(f\"Calling {fn.__name__}\")\n",
    "        return fn(*args, **kwargs)\n",
    "    return wrapper\n",
    "\n",
    "@log_fn\n",
    "def greet(name): print(f\"Hello {name}\")\n",
    "\n",
    "greet(\"Alice\")"
   ]
  },
  {
   "cell_type": "code",
   "execution_count": 5,
   "id": "a8c971fd",
   "metadata": {},
   "outputs": [
    {
     "name": "stdout",
     "output_type": "stream",
     "text": [
      "84\n"
     ]
    }
   ],
   "source": [
    "class Demo:\n",
    "    static_count = 0\n",
    "\n",
    "    def __init__(self, x):\n",
    "        self.x = x\n",
    "\n",
    "    @staticmethod\n",
    "    def util(): return \"Utility method\"\n",
    "\n",
    "    @classmethod\n",
    "    def make(cls): return cls(42)\n",
    "\n",
    "    @property\n",
    "    def double(self): return self.x * 2\n",
    "\n",
    "d = Demo.make()\n",
    "print(d.double)"
   ]
  },
  {
   "cell_type": "code",
   "execution_count": null,
   "id": "0b30490d",
   "metadata": {},
   "outputs": [
    {
     "name": "stdout",
     "output_type": "stream",
     "text": [
      "1\n",
      "2\n",
      "3\n",
      "4\n",
      "5\n"
     ]
    }
   ],
   "source": [
    "def count_up_to(n):\n",
    "    for i in range(1, n+1):\n",
    "        yield i # generators\n",
    "\n",
    "for x in count_up_to(5):\n",
    "    print(x)"
   ]
  },
  {
   "cell_type": "code",
   "execution_count": 7,
   "id": "8b37d0a4",
   "metadata": {},
   "outputs": [
    {
     "name": "stdout",
     "output_type": "stream",
     "text": [
      "Can't divide by zero\n",
      "Cleanup here\n"
     ]
    }
   ],
   "source": [
    "try:\n",
    "    x = 10 / 0\n",
    "except ZeroDivisionError:\n",
    "    print(\"Can't divide by zero\")\n",
    "finally:\n",
    "    print(\"Cleanup here\")\n"
   ]
  },
  {
   "cell_type": "code",
   "execution_count": 8,
   "id": "77cbca88",
   "metadata": {},
   "outputs": [],
   "source": [
    "with open(\"data.txt\", \"w\") as f:\n",
    "    f.write(\"Hello\\nWorld\")\n"
   ]
  },
  {
   "cell_type": "code",
   "execution_count": 9,
   "id": "8c3f2942",
   "metadata": {},
   "outputs": [
    {
     "name": "stdout",
     "output_type": "stream",
     "text": [
      "['alice', 'Bob', 'eve']\n"
     ]
    }
   ],
   "source": [
    "names = [\"alice\", \"Bob\", \"eve\"]\n",
    "print(sorted(names, key=str.lower))"
   ]
  },
  {
   "cell_type": "code",
   "execution_count": 11,
   "id": "e25da1bf",
   "metadata": {},
   "outputs": [
    {
     "name": "stdout",
     "output_type": "stream",
     "text": [
      "[1, 4, 9]\n",
      "[2, 4]\n",
      "[('a', 1), ('b', 2)]\n"
     ]
    }
   ],
   "source": [
    "# map\n",
    "squared = list(map(lambda x: x*x, [1, 2, 3]))\n",
    "\n",
    "# filter\n",
    "evens = list(filter(lambda x: x%2==0, [1, 2, 3, 4]))\n",
    "\n",
    "# zip\n",
    "pairs = list(zip([\"a\", \"b\"], [1, 2]))\n",
    "\n",
    "print(squared)\n",
    "print(evens)\n",
    "print(pairs)"
   ]
  },
  {
   "cell_type": "code",
   "execution_count": 12,
   "id": "caa7a87e",
   "metadata": {},
   "outputs": [
    {
     "name": "stdout",
     "output_type": "stream",
     "text": [
      "0\n",
      "1\n",
      "2\n"
     ]
    }
   ],
   "source": [
    "class Count:\n",
    "    def __init__(self, max): self.n, self.max = 0, max\n",
    "    def __iter__(self): return self\n",
    "    def __next__(self):\n",
    "        if self.n >= self.max: raise StopIteration\n",
    "        val = self.n\n",
    "        self.n += 1\n",
    "        return val\n",
    "\n",
    "for i in Count(3): print(i)\n"
   ]
  },
  {
   "cell_type": "code",
   "execution_count": 13,
   "id": "e9a182f8",
   "metadata": {},
   "outputs": [
    {
     "name": "stdout",
     "output_type": "stream",
     "text": [
      "Counter({'a': 5, 'b': 2, 'r': 2, 'c': 1, 'd': 1})\n"
     ]
    }
   ],
   "source": [
    "from collections import Counter\n",
    "print(Counter(\"abracadabra\"))\n"
   ]
  },
  {
   "cell_type": "code",
   "execution_count": 14,
   "id": "d089cf67",
   "metadata": {},
   "outputs": [
    {
     "name": "stdout",
     "output_type": "stream",
     "text": [
      "[3, 3, 3, 2, 2, 1, 4]\n"
     ]
    }
   ],
   "source": [
    "arr = [4, 1, 2, 2, 3, 3, 3]\n",
    "freq = Counter(arr)\n",
    "print(sorted(arr, key=lambda x: (-freq[x], x)))"
   ]
  },
  {
   "cell_type": "code",
   "execution_count": 15,
   "id": "fa1f419f",
   "metadata": {},
   "outputs": [
    {
     "name": "stdout",
     "output_type": "stream",
     "text": [
      "10\n"
     ]
    }
   ],
   "source": [
    "from functools import reduce\n",
    "\n",
    "nums = [1, 2, 3, 4]\n",
    "total = reduce(lambda x, y: x + y, nums)\n",
    "print(total)  # Output: 10"
   ]
  },
  {
   "cell_type": "code",
   "execution_count": 16,
   "id": "f22b2dd8",
   "metadata": {},
   "outputs": [
    {
     "name": "stdout",
     "output_type": "stream",
     "text": [
      "[1, 2, 3, 4, 5]\n"
     ]
    }
   ],
   "source": [
    "lists = [[1, 2], [3, 4], [5]]\n",
    "flattened = reduce(lambda x, y: x + y, lists)\n",
    "print(flattened)  # [1, 2, 3, 4, 5]\n"
   ]
  },
  {
   "cell_type": "markdown",
   "id": "8d380164",
   "metadata": {},
   "source": [
    "Dunder methods are implicitly called by python when certain operations are performed on objects.\n",
    "eg print(obj) calls obj.__str__()"
   ]
  },
  {
   "cell_type": "code",
   "execution_count": 17,
   "id": "2e8602cf",
   "metadata": {},
   "outputs": [
    {
     "name": "stdout",
     "output_type": "stream",
     "text": [
      "Person(Alice)\n",
      "Person(name='Alice')\n"
     ]
    }
   ],
   "source": [
    "class Person:\n",
    "    def __init__(self, name): self.name = name\n",
    "    def __str__(self): return f\"Person({self.name})\"\n",
    "    def __repr__(self): return f\"Person(name={self.name!r})\"\n",
    "\n",
    "p = Person(\"Alice\")\n",
    "print(p)            # Calls __str__\n",
    "print(repr(p))      # Calls __repr__\n"
   ]
  },
  {
   "cell_type": "code",
   "execution_count": 18,
   "id": "c1726cc5",
   "metadata": {},
   "outputs": [
    {
     "name": "stdout",
     "output_type": "stream",
     "text": [
      "Hello, Alice!\n"
     ]
    }
   ],
   "source": [
    "class Greeter:\n",
    "    def __call__(self, name):\n",
    "        print(f\"Hello, {name}!\")\n",
    "\n",
    "g = Greeter()\n",
    "g(\"Alice\")  # Acts like a function\n"
   ]
  },
  {
   "cell_type": "code",
   "execution_count": null,
   "id": "22a8eaf2",
   "metadata": {},
   "outputs": [],
   "source": []
  }
 ],
 "metadata": {
  "kernelspec": {
   "display_name": "base",
   "language": "python",
   "name": "python3"
  },
  "language_info": {
   "codemirror_mode": {
    "name": "ipython",
    "version": 3
   },
   "file_extension": ".py",
   "mimetype": "text/x-python",
   "name": "python",
   "nbconvert_exporter": "python",
   "pygments_lexer": "ipython3",
   "version": "3.11.0"
  }
 },
 "nbformat": 4,
 "nbformat_minor": 5
}
