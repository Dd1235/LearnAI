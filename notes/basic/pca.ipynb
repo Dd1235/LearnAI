{
 "cells": [
  {
   "cell_type": "markdown",
   "id": "cff82b23",
   "metadata": {},
   "source": [
    "SVD:\n",
    "\n",
    "- A = U * S * V^T\n",
    "- A: n x p matrix\n",
    "- U: n x n orthogonal matrix (left singular vectors)\n",
    "- S: n x p diagonal matrix (singular values)\n",
    "- V: p x p orthogonal matrix (right singular vectors)\n",
    "- rotation * stretch  * rotation\n",
    "\n",
    "- Au = lambda * u (u is an eigenvector of A)\n",
    "- A - lambda * I = 0 (I is the identity matrix)\n",
    "\n",
    "You have a matrix of numbers.  \n"
   ]
  },
  {
   "cell_type": "markdown",
   "id": "d790dbf4",
   "metadata": {},
   "source": []
  },
  {
   "cell_type": "markdown",
   "id": "333d56b1",
   "metadata": {},
   "source": []
  }
 ],
 "metadata": {
  "language_info": {
   "name": "python"
  }
 },
 "nbformat": 4,
 "nbformat_minor": 5
}
