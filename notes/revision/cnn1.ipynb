{
 "cells": [
  {
   "cell_type": "markdown",
   "id": "0970c540",
   "metadata": {},
   "source": [
    "Random Notes:\n",
    "Each kernel spans the entire input channels, so for each neuron in the convolutional layer, you have kernel of size k x k x d, where d is the depth of input, and you also have the bias term b.\n",
    "\n",
    "Ref:\n",
    "- Andrew Ngs videos (the course in the specializaiton)\n",
    "- 3b1b convolution video\n",
    "- the independent code\n",
    "- cs231n notes"
   ]
  }
 ],
 "metadata": {
  "language_info": {
   "name": "python"
  }
 },
 "nbformat": 4,
 "nbformat_minor": 5
}
